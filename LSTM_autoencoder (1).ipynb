{
  "nbformat": 4,
  "nbformat_minor": 0,
  "metadata": {
    "colab": {
      "name": "LSTM autoencoder",
      "provenance": [],
      "collapsed_sections": []
    },
    "kernelspec": {
      "name": "python3",
      "display_name": "Python 3"
    },
    "language_info": {
      "name": "python"
    }
  },
  "cells": [
    {
      "cell_type": "markdown",
      "source": [
        "LSTM AutoEncoder Model to generate sequential data\n"
      ],
      "metadata": {
        "id": "tH1kmBba24rX"
      }
    },
    {
      "cell_type": "code",
      "source": [
        "import numpy as np\n",
        "from keras.models import Sequential\n",
        "from keras.layers import LSTM\n",
        "from keras.layers import Dense\n",
        "from keras.layers import RepeatVector\n",
        "from keras.layers import TimeDistributed"
      ],
      "metadata": {
        "id": "o-o1Fdiv3E6-"
      },
      "execution_count": null,
      "outputs": []
    },
    {
      "cell_type": "code",
      "source": [
        "#define input timeseries\n",
        "timeseries = np.array([[0.1, 0.2, 0.3, 0.4, 0.5, 0.6, 0.7, 0.8, 0.9],\n",
        "                       [0.1**3, 0.2**3, 0.3**3, 0.4**3, 0.5**3, 0.6**3, 0.7**3, 0.8**3, 0.9**3]]).transpose()\n",
        "\n",
        "timeseries.shape"
      ],
      "metadata": {
        "colab": {
          "base_uri": "https://localhost:8080/"
        },
        "id": "OV04qUFlOeiq",
        "outputId": "70dbddb3-5422-4e67-f21f-f37b98f673c0"
      },
      "execution_count": 10,
      "outputs": [
        {
          "output_type": "execute_result",
          "data": {
            "text/plain": [
              "(9, 2)"
            ]
          },
          "metadata": {},
          "execution_count": 10
        }
      ]
    },
    {
      "cell_type": "code",
      "source": [
        "timeseries = np.array([0.1, 0.2, 0.3, 0.4, 0.5, 0.6, 0.7, 0.8, 0.9]).transpose()"
      ],
      "metadata": {
        "id": "uUera2PmWvrY"
      },
      "execution_count": null,
      "outputs": []
    },
    {
      "cell_type": "code",
      "source": [
        "timesteps = 3\n",
        "stride=1\n",
        "n_features = timeseries.shape[1]\n",
        "timeseries"
      ],
      "metadata": {
        "colab": {
          "base_uri": "https://localhost:8080/"
        },
        "id": "xsYwFnBeOwmo",
        "outputId": "a77c23f9-1c8b-4e0a-8c80-da276806d643"
      },
      "execution_count": 11,
      "outputs": [
        {
          "output_type": "execute_result",
          "data": {
            "text/plain": [
              "array([[0.1  , 0.001],\n",
              "       [0.2  , 0.008],\n",
              "       [0.3  , 0.027],\n",
              "       [0.4  , 0.064],\n",
              "       [0.5  , 0.125],\n",
              "       [0.6  , 0.216],\n",
              "       [0.7  , 0.343],\n",
              "       [0.8  , 0.512],\n",
              "       [0.9  , 0.729]])"
            ]
          },
          "metadata": {},
          "execution_count": 11
        }
      ]
    },
    {
      "cell_type": "code",
      "source": [
        "def temporalize(ts, lookback):\n",
        "    output_ts = []\n",
        "    \n",
        "    for i in range(len(ts)-lookback+1):\n",
        "        t = []\n",
        "        for j in range(lookback):\n",
        "            # Gather past records upto the lookback period\n",
        "            t.append(ts[(i+j)])\n",
        "        output_ts.append(t)\n",
        "        #output_y.append(y[i+lookback+1])\n",
        "    return output_ts #output_y"
      ],
      "metadata": {
        "id": "185zgVsQQsjx"
      },
      "execution_count": 14,
      "outputs": []
    },
    {
      "cell_type": "code",
      "source": [
        "X= temporalize(timeseries, timesteps)\n",
        "X=np.array(X)\n",
        "X.shape"
      ],
      "metadata": {
        "colab": {
          "base_uri": "https://localhost:8080/"
        },
        "id": "1QqIIC4zUetv",
        "outputId": "b20611fd-6a91-4a4f-df0e-c45fe413943d"
      },
      "execution_count": 15,
      "outputs": [
        {
          "output_type": "execute_result",
          "data": {
            "text/plain": [
              "(7, 3, 2)"
            ]
          },
          "metadata": {},
          "execution_count": 15
        }
      ]
    },
    {
      "cell_type": "code",
      "source": [
        "X"
      ],
      "metadata": {
        "colab": {
          "base_uri": "https://localhost:8080/"
        },
        "id": "sufk6Q_rXY0w",
        "outputId": "9c387b90-04f8-4bba-8ec1-1a7651d11cd1"
      },
      "execution_count": 16,
      "outputs": [
        {
          "output_type": "execute_result",
          "data": {
            "text/plain": [
              "array([[[0.1  , 0.001],\n",
              "        [0.2  , 0.008],\n",
              "        [0.3  , 0.027]],\n",
              "\n",
              "       [[0.2  , 0.008],\n",
              "        [0.3  , 0.027],\n",
              "        [0.4  , 0.064]],\n",
              "\n",
              "       [[0.3  , 0.027],\n",
              "        [0.4  , 0.064],\n",
              "        [0.5  , 0.125]],\n",
              "\n",
              "       [[0.4  , 0.064],\n",
              "        [0.5  , 0.125],\n",
              "        [0.6  , 0.216]],\n",
              "\n",
              "       [[0.5  , 0.125],\n",
              "        [0.6  , 0.216],\n",
              "        [0.7  , 0.343]],\n",
              "\n",
              "       [[0.6  , 0.216],\n",
              "        [0.7  , 0.343],\n",
              "        [0.8  , 0.512]],\n",
              "\n",
              "       [[0.7  , 0.343],\n",
              "        [0.8  , 0.512],\n",
              "        [0.9  , 0.729]]])"
            ]
          },
          "metadata": {},
          "execution_count": 16
        }
      ]
    },
    {
      "cell_type": "code",
      "source": [
        "model = Sequential()\n",
        "model.add(LSTM(128, activation='relu', input_shape=(timesteps,n_features), return_sequences=True))\n",
        "model.add(LSTM(64, activation='relu', return_sequences=False))\n",
        "model.add(RepeatVector(timesteps))\n",
        "model.add(LSTM(64, activation='relu', return_sequences=True))\n",
        "model.add(LSTM(128, activation='relu', return_sequences=True))\n",
        "model.add(TimeDistributed(Dense(n_features)))\n",
        "model.compile(optimizer='adam', loss='mse')\n",
        "model.summary()"
      ],
      "metadata": {
        "colab": {
          "base_uri": "https://localhost:8080/"
        },
        "id": "sffwDgfcURxP",
        "outputId": "0947f568-5cf5-4804-d640-3b7ae6a4f4f2"
      },
      "execution_count": 17,
      "outputs": [
        {
          "output_type": "stream",
          "name": "stdout",
          "text": [
            "Model: \"sequential\"\n",
            "_________________________________________________________________\n",
            " Layer (type)                Output Shape              Param #   \n",
            "=================================================================\n",
            " lstm (LSTM)                 (None, 3, 128)            67072     \n",
            "                                                                 \n",
            " lstm_1 (LSTM)               (None, 64)                49408     \n",
            "                                                                 \n",
            " repeat_vector (RepeatVector  (None, 3, 64)            0         \n",
            " )                                                               \n",
            "                                                                 \n",
            " lstm_2 (LSTM)               (None, 3, 64)             33024     \n",
            "                                                                 \n",
            " lstm_3 (LSTM)               (None, 3, 128)            98816     \n",
            "                                                                 \n",
            " time_distributed (TimeDistr  (None, 3, 2)             258       \n",
            " ibuted)                                                         \n",
            "                                                                 \n",
            "=================================================================\n",
            "Total params: 248,578\n",
            "Trainable params: 248,578\n",
            "Non-trainable params: 0\n",
            "_________________________________________________________________\n"
          ]
        }
      ]
    },
    {
      "cell_type": "code",
      "source": [
        "# fit model\n",
        "model.fit(X, X, epochs=300, batch_size=5, verbose=0)\n",
        "# demonstrate reconstruction\n",
        "yhat = model.predict(X, verbose=0)\n",
        "print('---Predicted---')\n",
        "print(np.round(yhat,3))\n",
        "print('---Actual---')\n",
        "print(np.round(X, 3))"
      ],
      "metadata": {
        "colab": {
          "base_uri": "https://localhost:8080/"
        },
        "id": "KyUARNAzV5LR",
        "outputId": "279a16c6-c3ab-4a26-f547-0b3c874a7b2f"
      },
      "execution_count": 18,
      "outputs": [
        {
          "output_type": "stream",
          "name": "stdout",
          "text": [
            "---Predicted---\n",
            "[[[ 0.139 -0.001]\n",
            "  [ 0.213  0.007]\n",
            "  [ 0.291  0.027]]\n",
            "\n",
            " [[ 0.198  0.01 ]\n",
            "  [ 0.298  0.028]\n",
            "  [ 0.391  0.063]]\n",
            "\n",
            " [[ 0.285  0.029]\n",
            "  [ 0.405  0.069]\n",
            "  [ 0.502  0.127]]\n",
            "\n",
            " [[ 0.388  0.063]\n",
            "  [ 0.507  0.132]\n",
            "  [ 0.6    0.219]]\n",
            "\n",
            " [[ 0.499  0.12 ]\n",
            "  [ 0.606  0.224]\n",
            "  [ 0.697  0.345]]\n",
            "\n",
            " [[ 0.609  0.202]\n",
            "  [ 0.7    0.344]\n",
            "  [ 0.795  0.507]]\n",
            "\n",
            " [[ 0.697  0.347]\n",
            "  [ 0.797  0.511]\n",
            "  [ 0.897  0.732]]]\n",
            "---Actual---\n",
            "[[[0.1   0.001]\n",
            "  [0.2   0.008]\n",
            "  [0.3   0.027]]\n",
            "\n",
            " [[0.2   0.008]\n",
            "  [0.3   0.027]\n",
            "  [0.4   0.064]]\n",
            "\n",
            " [[0.3   0.027]\n",
            "  [0.4   0.064]\n",
            "  [0.5   0.125]]\n",
            "\n",
            " [[0.4   0.064]\n",
            "  [0.5   0.125]\n",
            "  [0.6   0.216]]\n",
            "\n",
            " [[0.5   0.125]\n",
            "  [0.6   0.216]\n",
            "  [0.7   0.343]]\n",
            "\n",
            " [[0.6   0.216]\n",
            "  [0.7   0.343]\n",
            "  [0.8   0.512]]\n",
            "\n",
            " [[0.7   0.343]\n",
            "  [0.8   0.512]\n",
            "  [0.9   0.729]]]\n"
          ]
        }
      ]
    }
  ]
}